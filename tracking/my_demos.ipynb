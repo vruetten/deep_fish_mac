{
 "cells": [
  {
   "cell_type": "code",
   "execution_count": 1,
   "metadata": {},
   "outputs": [],
   "source": [
    "import matplotlib.pyplot as pl\n",
    "import pyqtgraph as pg\n",
    "import os, sys\n",
    "os.chdir('/Users/virginiarutten/Documents/deep_fish/')\n",
    "import numpy as np\n",
    "import argparse,datetime,imutils,threading, time, cv2\n",
    "from PyQt5.QtCore import Qt\n",
    "from time import sleep\n",
    "from threading import Thread, Timer\n",
    "from glob import glob as glob\n",
    "from pyqtgraph.Qt import QtCore, QtGui, QtOpenGL\n",
    "from imp import reload\n",
    "import pyqtgraph.functions as fn\n",
    "from PyQt5 import QtGui \n",
    "from threading import Thread\n",
    "from MyTimer import MyTimer\n",
    "from MyArduino import MyArduino\n",
    "from RawImageWidget import RawImageWidget\n",
    "from PIL import Image\n",
    "import threading\n",
    "import time\n",
    "from MyGif import MyGif\n",
    "import record_video as rv\n",
    "import datetime\n",
    "import time\n",
    "import pandas as pd\n",
    "% matplotlib inline\n",
    "% gui qt\n",
    "# % pdb"
   ]
  },
  {
   "cell_type": "markdown",
   "metadata": {},
   "source": [
    "# Basic demos"
   ]
  },
  {
   "cell_type": "markdown",
   "metadata": {},
   "source": [
    "### record file"
   ]
  },
  {
   "cell_type": "code",
   "execution_count": null,
   "metadata": {},
   "outputs": [],
   "source": [
    "# ! python /Users/virginiarutten/Documents/deep_fish/tracking/record_video.py -t 10 -n 'test_'"
   ]
  },
  {
   "cell_type": "markdown",
   "metadata": {},
   "source": [
    "### load file"
   ]
  },
  {
   "cell_type": "code",
   "execution_count": 19,
   "metadata": {},
   "outputs": [
    {
     "name": "stdout",
     "output_type": "stream",
     "text": [
      "['/Users/virginiarutten/Documents/deep_fish/videos/31-03-2018.mov', '/Users/virginiarutten/Documents/deep_fish/videos/31-03-2018_2.mov']\n",
      "/Users/virginiarutten/Documents/deep_fish/videos/31-03-2018.mov\n"
     ]
    }
   ],
   "source": [
    "default_path = '/Users/virginiarutten/Documents/deep_fish/videos'\n",
    "files = glob(default_path+'/31*')\n",
    "print(files)\n",
    "file = files[0]\n",
    "print(file)"
   ]
  },
  {
   "cell_type": "markdown",
   "metadata": {},
   "source": [
    "## pyqtWin"
   ]
  },
  {
   "cell_type": "code",
   "execution_count": null,
   "metadata": {},
   "outputs": [],
   "source": [
    "    \n",
    "def image(image_ = None,title = 'frame', pos = (0,0)):\n",
    "    win = pg.ImageView()\n",
    "    if image_!=None:\n",
    "        win.setImage(image_)\n",
    "    win.show()\n",
    "    win.setWindowTitle(title)\n",
    "    win.move(pos[0], pos[1])\n",
    "    return win"
   ]
  },
  {
   "cell_type": "code",
   "execution_count": 3,
   "metadata": {},
   "outputs": [],
   "source": [
    "t = MyTimer()\n",
    "t"
   ]
  },
  {
   "cell_type": "code",
   "execution_count": 21,
   "metadata": {},
   "outputs": [
    {
     "ename": "TypeError",
     "evalue": "setImage() missing 1 required positional argument: 'img'",
     "output_type": "error",
     "traceback": [
      "\u001b[0;31m---------------------------------------------------------------------------\u001b[0m",
      "\u001b[0;31mTypeError\u001b[0m                                 Traceback (most recent call last)",
      "\u001b[0;32m<ipython-input-21-461ba8847a78>\u001b[0m in \u001b[0;36m<module>\u001b[0;34m()\u001b[0m\n\u001b[1;32m     15\u001b[0m \u001b[0mlayout\u001b[0m\u001b[0;34m.\u001b[0m\u001b[0maddWidget\u001b[0m\u001b[0;34m(\u001b[0m\u001b[0mimv1\u001b[0m\u001b[0;34m)\u001b[0m\u001b[0;34m\u001b[0m\u001b[0m\n\u001b[1;32m     16\u001b[0m \u001b[0;31m# layout.addWidget(imv2)\u001b[0m\u001b[0;34m\u001b[0m\u001b[0;34m\u001b[0m\u001b[0m\n\u001b[0;32m---> 17\u001b[0;31m \u001b[0mimv1\u001b[0m\u001b[0;34m.\u001b[0m\u001b[0msetImage\u001b[0m\u001b[0;34m(\u001b[0m\u001b[0;34m)\u001b[0m\u001b[0;34m\u001b[0m\u001b[0m\n\u001b[0m\u001b[1;32m     18\u001b[0m \u001b[0;31m# imv2.setImage(pp.T, scale = (3,3), pos= (0,0), levels = (10,90),\\\u001b[0m\u001b[0;34m\u001b[0m\u001b[0;34m\u001b[0m\u001b[0m\n\u001b[1;32m     19\u001b[0m \u001b[0;31m#              autoHistogramRange= False, autoRange = True)\u001b[0m\u001b[0;34m\u001b[0m\u001b[0;34m\u001b[0m\u001b[0m\n",
      "\u001b[0;31mTypeError\u001b[0m: setImage() missing 1 required positional argument: 'img'"
     ]
    }
   ],
   "source": [
    "win = QtGui.QWidget()\n",
    "title='you can do it!'\n",
    "win.resize(1200,800)\n",
    "win.setWindowTitle(title)\n",
    "win.move(0,0)\n",
    "\n",
    "##create qWidget\n",
    "imv1= RawImageWidget(scaled=True)\n",
    "\n",
    "\n",
    "trialTime_tb = QtGui.QLineEdit()\n",
    "layout = QtGui.QGridLayout()\n",
    "win.setLayout(layout)\n",
    "\n",
    "layout.addWidget(imv1)\n",
    "# layout.addWidget(imv2)\n",
    "imv1.setImage()\n",
    "# imv2.setImage(pp.T, scale = (3,3), pos= (0,0), levels = (10,90),\\\n",
    "#              autoHistogramRange= False, autoRange = True)\n",
    "win.show()\n",
    "\n"
   ]
  },
  {
   "cell_type": "code",
   "execution_count": null,
   "metadata": {},
   "outputs": [],
   "source": [
    "trialTime_tb"
   ]
  },
  {
   "cell_type": "markdown",
   "metadata": {},
   "source": [
    "## How to save film"
   ]
  },
  {
   "cell_type": "code",
   "execution_count": null,
   "metadata": {},
   "outputs": [],
   "source": [
    "foo = QtGui.QComboBox()"
   ]
  },
  {
   "cell_type": "code",
   "execution_count": null,
   "metadata": {},
   "outputs": [],
   "source": [
    "foo.addItem('i', 'p')"
   ]
  },
  {
   "cell_type": "code",
   "execution_count": null,
   "metadata": {},
   "outputs": [],
   "source": [
    "foo.currentText()"
   ]
  },
  {
   "cell_type": "code",
   "execution_count": null,
   "metadata": {},
   "outputs": [],
   "source": [
    "def fun():\n",
    "    print('o')\n",
    "foo.currentIndexChanged.connect(fun)"
   ]
  },
  {
   "cell_type": "code",
   "execution_count": null,
   "metadata": {},
   "outputs": [],
   "source": [
    "foo.currentIndex()"
   ]
  },
  {
   "cell_type": "code",
   "execution_count": null,
   "metadata": {},
   "outputs": [],
   "source": [
    "\n",
    "tt = MyTimer()\n",
    "cap = cv2.VideoCapture(1)\n",
    "fx = .5\n",
    "frame, imW, imH = grab_frame(cap, fx=fx)\n",
    "\n",
    "fourcc = cv2.VideoWriter_fourcc(*'XVID')\n",
    "out = cv2.VideoWriter(path+file,fourcc = fourcc, fps = 2.0, frameSize = (imW,imH))\n",
    "\n",
    "tt.restart()\n",
    "recording=True\n",
    "while recording:\n",
    "    tmp = tt.get_time()\n",
    "    if tmp>3:\n",
    "        recording=False\n",
    "    else:\n",
    "        ret, frame = cap.read()\n",
    "        if ret==True:\n",
    "            frame = cv2.resize(frame, (imW, imH)).astype('uint8')\n",
    "            # write the flipped frame\n",
    "            out.write(frame)\n",
    "            cv2.imshow('frame',frame)\n",
    "        else:\n",
    "            pass\n",
    "print(tt.get_time())\n",
    "cap.release()\n",
    "out.release()\n",
    "cv2.destroyAllWindows()"
   ]
  },
  {
   "cell_type": "code",
   "execution_count": null,
   "metadata": {},
   "outputs": [],
   "source": [
    "\n",
    "class MyQtWidget(QtGui.QWidget):\n",
    "    def __init__(self):\n",
    "        super(MyQtWidget, self).__init__()\n",
    "        \n",
    "        self.initUI()\n",
    "    \n",
    "    \n",
    "    def initUI(self):      \n",
    "        self.move(0,0)\n",
    "        self.resize(1000,800)\n",
    "        self.show()\n",
    "\n",
    "    def keyPressEvent(self, e):\n",
    "        if e.key() == QtCore.Qt.Key_Escape:\n",
    "            self.close()"
   ]
  }
 ],
 "metadata": {
  "kernelspec": {
   "display_name": "Python [conda root]",
   "language": "python",
   "name": "conda-root-py"
  },
  "language_info": {
   "codemirror_mode": {
    "name": "ipython",
    "version": 3
   },
   "file_extension": ".py",
   "mimetype": "text/x-python",
   "name": "python",
   "nbconvert_exporter": "python",
   "pygments_lexer": "ipython3",
   "version": "3.5.3"
  }
 },
 "nbformat": 4,
 "nbformat_minor": 2
}
