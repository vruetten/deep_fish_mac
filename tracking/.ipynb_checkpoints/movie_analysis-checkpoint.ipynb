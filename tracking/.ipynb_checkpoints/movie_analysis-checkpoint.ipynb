{
 "cells": [
  {
   "cell_type": "code",
   "execution_count": 1,
   "metadata": {
    "collapsed": true
   },
   "outputs": [],
   "source": [
    "import matplotlib.pyplot as pl\n",
    "import pyqtgraph as pg\n",
    "import os, sys, time, datetime,argparse,datetime,imutils,threading, cv2\n",
    "import numpy as np\n",
    "from time import sleep\n",
    "from glob import glob\n",
    "from imp import reload\n",
    "from threading import Thread\n",
    "from MyTimer import MyTimer\n",
    "from MyArduino import MyArduino\n",
    "from RawImageWidget import RawImageWidget\n",
    "from PIL import Image\n",
    "from MyGif import MyGif\n",
    "import record_video as rv\n",
    "os.chdir('/Users/virginiarutten/Documents/deep_fish/')\n",
    "\n",
    "% matplotlib inline\n",
    "% gui qt"
   ]
  },
  {
   "cell_type": "markdown",
   "metadata": {},
   "source": [
    "## video tracking"
   ]
  },
  {
   "cell_type": "markdown",
   "metadata": {},
   "source": [
    "### record file"
   ]
  },
  {
   "cell_type": "code",
   "execution_count": null,
   "metadata": {},
   "outputs": [],
   "source": [
    "! python /Users/virginiarutten/Documents/deep_fish/tracking/record_video.py -t 10 -n 'test_'"
   ]
  },
  {
   "cell_type": "markdown",
   "metadata": {},
   "source": [
    "### load file"
   ]
  },
  {
   "cell_type": "code",
   "execution_count": 6,
   "metadata": {},
   "outputs": [
    {
     "name": "stdout",
     "output_type": "stream",
     "text": [
      "['/Users/virginiarutten/Documents/deep_fish/videos/180405/Record_File.mov']\n"
     ]
    }
   ],
   "source": [
    "default_path = '/Users/virginiarutten/Documents/deep_fish/videos/180404/HD Webcam C525/'\n",
    "files = glob(default_path+'/*25*')\n",
    "default_path = '/Users/virginiarutten/Documents/deep_fish/videos/180405/'\n",
    "files = glob(default_path+'/*')\n",
    "\n",
    "print(files)"
   ]
  },
  {
   "cell_type": "code",
   "execution_count": 7,
   "metadata": {},
   "outputs": [
    {
     "name": "stdout",
     "output_type": "stream",
     "text": [
      "/Users/virginiarutten/Documents/deep_fish/videos/180405/Record_File.mov\n"
     ]
    }
   ],
   "source": [
    "file = files[0]\n",
    "print(file)"
   ]
  },
  {
   "cell_type": "markdown",
   "metadata": {},
   "source": [
    "### functions"
   ]
  },
  {
   "cell_type": "code",
   "execution_count": 8,
   "metadata": {},
   "outputs": [],
   "source": [
    "def grab_frame(camera, fx=1, opt=0):\n",
    "    try:\n",
    "        (grabbed, frame) = camera.read()\n",
    "        frame = cv2.resize(frame, (0,0), fx= fx,fy = fx)\n",
    "        imW = frame.shape[1]\n",
    "        imH = frame.shape[0]\n",
    "        if opt==1:\n",
    "            return frame, imW, imH\n",
    "        else:\n",
    "            return frame\n",
    "    except:\n",
    "        print('couldn\\'t grab frame')\n",
    "        if opt==1:\n",
    "            return None, None, None\n",
    "        else:\n",
    "            return None\n",
    "        \n",
    "def normalise(ims: np.ndarray):\n",
    "    if not isinstance(ims, np.ndarray):\n",
    "        raise TypeError\n",
    "    ims_avg = ims.mean(axis = 0)\n",
    "    frameDelta = ims_avg[None,:,:]-ims\n",
    "    min_ = frameDelta.min()\n",
    "    if min_<0:\n",
    "        frameDelta -=min_\n",
    "    else:\n",
    "        frameDelta +=min_\n",
    "    frameDelta /= frameDelta.max()/254\n",
    "    return frameDelta, ims_avg\n",
    "\n",
    "\n",
    "def get_stats(file):\n",
    "    cap = cv2.VideoCapture(file)\n",
    "    length = int(cap.get(cv2.CAP_PROP_FRAME_COUNT))\n",
    "    width  = int(cap.get(cv2.CAP_PROP_FRAME_WIDTH))\n",
    "    height = int(cap.get(cv2.CAP_PROP_FRAME_HEIGHT))\n",
    "    fps    = cap.get(cv2.CAP_PROP_FPS)\n",
    "    cap.release()\n",
    "    return length, width, height, fps\n",
    "\n",
    "\n",
    "\n",
    "\n",
    "def mask_frame(fD, lLim, uLim):\n",
    "    mask = cv2.inRange(fD,  lLim, uLim)\n",
    "    masked = cv2.bitwise_or(fD, fD, mask=mask)   \n",
    "    return mask, masked\n",
    "\n",
    "\n",
    "def mask_frames(ims, lLim=30, uLim = 80):\n",
    "    mask = []\n",
    "    masked = []\n",
    "\n",
    "    for i in range(ims.shape[0]):\n",
    "        mask_, masked_ = mask_frame(ims[i], lLim, uLim)\n",
    "        mask.append(mask_)\n",
    "        masked.append(masked_)\n",
    "    mask = np.array(mask)\n",
    "    masked = np.array(masked)\n",
    "    return mask, masked\n",
    "\n",
    "def countour_frames(masked,area_mn = 30, area_mx = 2000, fish_num = 4):\n",
    "    im_ = []\n",
    "    keypoints = {}\n",
    "    for i in range(masked.shape[0]):\n",
    "        m_tmp,keypoints = get_frame_contours(masked[i], keypoints, area_mn,area_mx, fish_num)\n",
    "        im_.append(m_tmp)\n",
    "\n",
    "    im_ = np.array(im_)\n",
    "    return im_, keypoints\n",
    "\n",
    "\n",
    "def get_frame_contours(masked, keypoints, area_mn, area_mx = 13*37, fish_num = 4):   \n",
    "    \n",
    "        _, cnts, _ = cv2.findContours(image = masked, mode = cv2.RETR_EXTERNAL,\\\n",
    "                                      method = cv2.CHAIN_APPROX_SIMPLE)\n",
    "        \n",
    "        im_ = np.repeat(masked.copy()[:,:,None], repeats = 3,axis = 2)\n",
    "\n",
    "        \n",
    "        x = np.array([])\n",
    "        y = np.array([])\n",
    "        cX = np.array([])\n",
    "        cY = np.array([])\n",
    "        h = np.array([])\n",
    "        w = np.array([])\n",
    "        C = []\n",
    "        \n",
    "        a = np.array([])\n",
    "        for c in cnts:\n",
    "            a_ = cv2.contourArea(c) \n",
    "            # if the contour is too small, ignore it\n",
    "            if a_ > area_mn:\n",
    "                if a_ < area_mx*1000:\n",
    "                    a = np.concatenate([a,np.array([a_])])\n",
    "                    \n",
    "                    M = cv2.moments(c)\n",
    "                    if M[\"m00\"]<1e-9:\n",
    "                        M[\"m00\"] = 1e10\n",
    "                    cX_ = int(M[\"m10\"] / M[\"m00\"])\n",
    "                    cY_ = int(M[\"m01\"] / M[\"m00\"])\n",
    "\n",
    "                    cX = np.concatenate([cX,np.array([cX_])])\n",
    "                    cY = np.concatenate([cY,np.array([cY_])]) \n",
    "\n",
    "                    C.append(c)\n",
    "                    (x_, y_, w_, h_) = cv2.boundingRect(c)\n",
    "                    x = np.concatenate([x,np.array([x_])])\n",
    "                    y = np.concatenate([y,np.array([y_])])  \n",
    "                    h = np.concatenate([h,np.array([h_])])\n",
    "                    w = np.concatenate([w,np.array([w_])])  \n",
    "                    \n",
    "            \n",
    "        ## get indices of largest areas\n",
    "        if len(a)==0:\n",
    "            max_a = -1\n",
    "        else:\n",
    "            max_a = np.max(a)\n",
    "        locs = np.argsort(-a[:fish_num])\n",
    "        x = x[locs].astype('int')\n",
    "        y = y[locs].astype('int')\n",
    "        cX = cX[locs].astype('int')\n",
    "        cY = cY[locs].astype('int')\n",
    "        h = h[locs].astype('int')\n",
    "        w = w[locs].astype('int')\n",
    "        a = a[locs].astype('int')\n",
    "        C = np.array(C)\n",
    "        C = C[locs]\n",
    "        \n",
    "        \n",
    "        cXX =cX.reshape([1,-1])\n",
    "        cYY =cY.reshape([1,-1])\n",
    "        xx =x.reshape([1,-1])\n",
    "        yy =y.reshape([1,-1])\n",
    "        hh =h.reshape([1,-1])\n",
    "        ww =w.reshape([1,-1])\n",
    "        \n",
    "\n",
    "                          \n",
    "        keylen = len(keypoints)\n",
    "        keypoints[keylen  + 1] = np.concatenate([cXX, cYY, xx,yy,hh,ww], axis = 0).T\n",
    "        keylen = len(keypoints)\n",
    "        \n",
    "        for i in range(locs.shape[0]):\n",
    "#             im_ = cv2.rectangle(im_, (x[i], y[i]), (x[i] + int(w[i]), y[i] + int(h[i])), (255, 255, 0), 1)\n",
    "            im_ = cv2.circle(im_, (cX[i], cY[i]), radius=2, color=(0, 255, 0), thickness=3)\n",
    "            im_ = cv2.drawContours(im_, C[i], -1, (255,0,255), 1)\n",
    "            \n",
    "        pre_fr = 20\n",
    "        if keylen>25:\n",
    "            for buf in range(pre_fr):\n",
    "                locs_ = keypoints[keylen-buf-1]\n",
    "                for i in range(locs_.shape[0]):\n",
    "                    im_ = cv2.circle(im_, (locs_[i,0], locs_[i,1]), radius=1, color=(255, 0, 255), thickness=1)\n",
    "\n",
    "        return im_, keypoints\n",
    "    \n",
    "def image(image_ = None,title = 'frame', pos = (0,0)):\n",
    "    win = pg.ImageView()\n",
    "    if image_!=None:\n",
    "        win.setImage(image_)\n",
    "    win.show()\n",
    "    win.setWindowTitle(title)\n",
    "    win.move(pos[0], pos[1])\n",
    "    return win\n",
    "\n",
    "def find_trajs(keypoints, max_dist = 20):\n",
    "    fr_num = len(keypoints)\n",
    "    # for fr in range(fr_num-1):  \n",
    "\n",
    "    init_key = keypoints[1][:,0:2]\n",
    "    pre_count = init_key.shape[0]\n",
    "    trajs = np.zeros([pre_count,fr_num,2])\n",
    "    trajs[:,0,:] = init_key\n",
    "\n",
    "    for fr in range(fr_num-2):      \n",
    "        locs = keypoints[fr+2][:,0:2]\n",
    "        new_count = locs.shape[0]    \n",
    "        active_prelocs = trajs[:,fr,0]>0\n",
    "        prelocs = trajs[active_prelocs,fr]\n",
    "        pre_count = prelocs.shape[0]\n",
    "\n",
    "        if new_count>pre_count:\n",
    "    #         print('new fish located')\n",
    "            trajs = np.vstack([trajs, np.zeros([1, trajs.shape[1],trajs.shape[2]])])\n",
    "\n",
    "        dists = []\n",
    "        ords = []\n",
    "\n",
    "        for new in range(new_count):\n",
    "            dist_ = []\n",
    "            for old in range(pre_count):\n",
    "                dist_.append(np.linalg.norm(prelocs[old]-locs[new]))\n",
    "            dist_ = np.array(dist_)\n",
    "            dists.append(dist_)\n",
    "            ord_ = np.argsort(dist_)\n",
    "            ords.append(ord_)\n",
    "\n",
    "        ## new by old\n",
    "        dists = np.array(dists)\n",
    "        dists_buf = np.copy(dists)\n",
    "        ords = np.array(ords)\n",
    "        dists_buf[dists_buf>max_dist] = 1e10\n",
    "        \n",
    "        located_fish = np.array([90])\n",
    "        unlocated_fish = list(set(np.arange(new_count)))\n",
    "\n",
    "        while len(unlocated_fish)>0:\n",
    "    #     for i in range(new_count):\n",
    "            unlocated_fish = list(set(np.arange(new_count))- set(located_fish))\n",
    "            if pre_count==0:\n",
    "                min_ = max_dist+1\n",
    "            else:\n",
    "                min_ = dists_buf.min()\n",
    "            if min_>max_dist:  \n",
    "                if len(unlocated_fish)>0:\n",
    "                    fish_ind = unlocated_fish[0]\n",
    "                    trajs = np.vstack([trajs, np.zeros([1, trajs.shape[1],trajs.shape[2]])])\n",
    "                    trajs[-1, fr+1, :] =locs[fish_ind] \n",
    "                    located_fish = np.hstack([fish_ind,located_fish] )\n",
    "            else:\n",
    "                best_new_fish = np.where(dists_buf== dists_buf.min())[0]\n",
    "                best_prev_fish = np.where(dists_buf== dists_buf.min())[1]\n",
    "                if len(best_new_fish)>1:\n",
    "                    best_new_fish = best_new_fish[0]\n",
    "                    best_prev_fish = best_prev_fish[0]\n",
    "\n",
    "                located_fish = np.hstack([best_new_fish,located_fish])\n",
    "\n",
    "                best_prv_loc = np.where(active_prelocs==True)[0][best_prev_fish]\n",
    "                trajs[best_prv_loc,fr+1,:] = locs[best_new_fish]\n",
    "                dists_buf[:, best_prev_fish]= 1e10\n",
    "                dists_buf[best_new_fish,:]= 1e10\n",
    "    return trajs\n",
    "\n",
    "def delta_frame(ims: np.ndarray, win = 500):\n",
    "    ims = ims.astype('uint8')\n",
    "    ttFr = ims.shape[0]\n",
    "    diffs =[]\n",
    "    for i in range(ttFr):\n",
    "        if i<=win/2:\n",
    "            ims_avg_ = ims[0:int(i+win/2)].mean(axis = 0)\n",
    "        elif i>=(ttFr-win/2):\n",
    "            ims_avg_ = ims[int(i-win/2):].mean(axis = 0)\n",
    "        else:\n",
    "            ims_avg_ = ims[int(i-win/2):int(i+win/2)].mean(axis = 0)\n",
    "        diffs.append(cv2.absdiff(ims_avg_.astype('uint8'), ims[i].astype('uint8')))\n",
    "    diffs = np.array(diffs)\n",
    "    ims_avg = ims.mean(axis = 0)\n",
    "    return diffs, ims_avg\n",
    "\n",
    "def delta_frame(ims: np.ndarray, win = 500):\n",
    "    ims = ims.astype('uint8')\n",
    "    ttFr = ims.shape[0]\n",
    "    diffs =[]\n",
    "    for i in range(ttFr):\n",
    "        if i<=win/2:\n",
    "            ims_avg_ = ims[0:int(i+win/2)].mean(axis = 0)\n",
    "        elif i>=(ttFr-win/2):\n",
    "            ims_avg_ = ims[int(i-win/2):].mean(axis = 0)\n",
    "        else:\n",
    "            ims_avg_ = ims[int(i-win/2):int(i+win/2)].mean(axis = 0)\n",
    "        diffs.append(cv2.absdiff(ims_avg_.astype('uint8'), ims[i].astype('uint8')))\n",
    "    diffs = np.array(diffs)\n",
    "    ims_avg = ims.mean(axis = 0)\n",
    "    return diffs, ims_avg\n",
    "def delta_frame(ims: np.ndarray):\n",
    "    ims = ims.astype('float32')\n",
    "    ttFr = ims.shape[0]\n",
    "    ims_avg = ims.mean(axis = 0)\n",
    "    dF = np.abs(ims_avg[None,:,:].astype('float32') -ims.astype('float32'))\n",
    "    return dF.astype('uint8'), ims_avg.astype('uint8')\n",
    "\n",
    "\n",
    "def convert2array(file, fx = 1, ds = 1,blur = 3,  opt = 'GRAY'):\n",
    "    length, width, height, fps = get_stats(file)\n",
    "    ims = []\n",
    "    cap = cv2.VideoCapture(file)\n",
    "    if opt=='GRAY':\n",
    "        conv = cv2.COLOR_BGR2GRAY\n",
    "    else:\n",
    "        conv = cv2.COLOR_BGR2HSV\n",
    "    for i in range(length):\n",
    "        if i % ds == 0:\n",
    "            frame = grab_frame(cap, fx = fx)\n",
    "            frame = cv2.cvtColor(frame, conv)\n",
    "            ims.append(cv2.medianBlur(frame,blur))\n",
    "#             ims.append(frame)\n",
    "#             ims.append(cv2.GaussianBlur(frame, (3, 3), 1))\n",
    "    return np.array(ims)\n",
    "\n",
    "def erode(im, ker = 5, ite = 1):\n",
    "    kernel = np.ones((ker,ker), np.uint8)\n",
    "    ims = []\n",
    "    for i in range(im.shape[0]):\n",
    "        ims.append(cv2.erode(im[i], kernel, iterations=ite))\n",
    "    return np.array(ims).astype('uint8') \n",
    "\n",
    "def dilate(im, ker = 5, ite = 1):\n",
    "    kernel = np.ones((ker,ker), np.uint8)\n",
    "    ims = []\n",
    "    for i in range(im.shape[0]):\n",
    "        ims.append(cv2.dilate(im[i], kernel, iterations=ite))\n",
    "    return np.array(ims).astype('uint8') \n",
    "\n",
    "def plot_pts(masked, im, T):\n",
    "    fr_num = masked.shape[0]\n",
    "    im_ = np.repeat(im.copy()[:,:,:,None], repeats = 3,axis = 3).astype('uint8')\n",
    "#     im_ = np.copy(masked)\n",
    "    preFr = 50\n",
    "    cols = np.random.randint(0, 255,(T.shape[0],3))\n",
    "    for fr in range(fr_num):\n",
    "        for f in range(T.shape[0]):\n",
    "            c = cols[f]\n",
    "            if int(T[f,fr,0])>0:\n",
    "                im_[fr] = cv2.circle(im_[fr], (int(T[f,fr,0]), int(T[f,fr,1])), radius=1, color=(int(c[0]), int(c[1]), int(c[2])), thickness=3)\n",
    "            if fr>25:\n",
    "                for pre_fr in range(preFr):\n",
    "                    if int(T[f,fr-pre_fr,0])>0:\n",
    "                        if int(T[f,fr-pre_fr,1])>0:\n",
    "                            im_[fr] = cv2.circle(im_[fr], (int(T[f,fr-pre_fr,0]), int(T[f,fr-pre_fr,1])), radius=1, \\\n",
    "                                         color=(int(c[0]), int(c[1]), int(c[2])), thickness=1)\n",
    "                        \n",
    "    return im_ "
   ]
  },
  {
   "cell_type": "markdown",
   "metadata": {},
   "source": [
    "### get basic stats, blur and cover to grey scale"
   ]
  },
  {
   "cell_type": "code",
   "execution_count": 128,
   "metadata": {},
   "outputs": [
    {
     "name": "stdout",
     "output_type": "stream",
     "text": [
      "length: 13162, \n",
      "width: 640, \n",
      "height: 480, \n",
      "fps:8.359257698059082\n",
      "(6581, 240, 320)\n"
     ]
    }
   ],
   "source": [
    "length, width, height, fps = get_stats(file)\n",
    "print('length: {0}, \\nwidth: {1}, \\nheight: {2}, \\nfps:{3}'.format(\\\n",
    "            length, width, height, fps))\n",
    "imsHSV = convert2array(file, fx = 0.5, ds = 2, opt = 'HSV')\n",
    "ims = convert2array(file, fx = 0.5, ds = 2, opt = 'GRAY')\n",
    "print(ims.shape)"
   ]
  },
  {
   "cell_type": "markdown",
   "metadata": {},
   "source": [
    "## view raw and selct upper and lower bounds"
   ]
  },
  {
   "cell_type": "code",
   "execution_count": 129,
   "metadata": {},
   "outputs": [],
   "source": [
    "dF, ims_avg = delta_frame(ims)"
   ]
  },
  {
   "cell_type": "code",
   "execution_count": 130,
   "metadata": {},
   "outputs": [],
   "source": [
    "hue = imsHSV[:,:,:,0]\n",
    "saturation = imsHSV[:,:,:,1]\n",
    "value = imsHSV[:,:,:,2]"
   ]
  },
  {
   "cell_type": "code",
   "execution_count": 93,
   "metadata": {},
   "outputs": [
    {
     "data": {
      "text/plain": [
       "<pyqtgraph.imageview.ImageView.ImageView at 0x1a23be8168>"
      ]
     },
     "execution_count": 93,
     "metadata": {},
     "output_type": "execute_result"
    }
   ],
   "source": [
    "image(ims, title='raw')"
   ]
  },
  {
   "cell_type": "code",
   "execution_count": 94,
   "metadata": {},
   "outputs": [],
   "source": [
    "s = image(saturation, title='saturation')\n",
    "v = image(value, title='value')"
   ]
  },
  {
   "cell_type": "code",
   "execution_count": 131,
   "metadata": {},
   "outputs": [],
   "source": [
    "dFS, ims_avgS = delta_frame(saturation)\n",
    "dFV, ims_avgV = delta_frame(value)"
   ]
  },
  {
   "cell_type": "code",
   "execution_count": 96,
   "metadata": {},
   "outputs": [
    {
     "data": {
      "text/plain": [
       "<pyqtgraph.imageview.ImageView.ImageView at 0x1a23d95dc8>"
      ]
     },
     "execution_count": 96,
     "metadata": {},
     "output_type": "execute_result"
    }
   ],
   "source": [
    "image(dFS, title='dFsaturation')"
   ]
  },
  {
   "cell_type": "code",
   "execution_count": 132,
   "metadata": {},
   "outputs": [],
   "source": [
    "mask = dFS>26\n",
    "mask = mask*1"
   ]
  },
  {
   "cell_type": "code",
   "execution_count": null,
   "metadata": {},
   "outputs": [],
   "source": [
    "win = image(255-dFD, title='dF max area')\n",
    "win2 = image(255-dFD, title='dF min area')\n",
    "print(win2.roi.size()[0]*win2.roi.size()[1])\n",
    "print(win.roi.size()[0]*win.roi.size()[1])"
   ]
  },
  {
   "cell_type": "code",
   "execution_count": 102,
   "metadata": {},
   "outputs": [
    {
     "data": {
      "text/plain": [
       "<pyqtgraph.imageview.ImageView.ImageView at 0x1a45b5f9d8>"
      ]
     },
     "execution_count": 102,
     "metadata": {},
     "output_type": "execute_result"
    }
   ],
   "source": [
    "image(mask, title='dFmask')"
   ]
  },
  {
   "cell_type": "code",
   "execution_count": null,
   "metadata": {},
   "outputs": [],
   "source": [
    "image(dFV, title='dFvalue')"
   ]
  },
  {
   "cell_type": "code",
   "execution_count": 133,
   "metadata": {},
   "outputs": [
    {
     "data": {
      "text/plain": [
       "<pyqtgraph.imageview.ImageView.ImageView at 0x1a29463ca8>"
      ]
     },
     "execution_count": 133,
     "metadata": {},
     "output_type": "execute_result"
    }
   ],
   "source": [
    "dFE = erode(mask.astype('uint8'), ker = 2, ite = 1)\n",
    "image(dFE, title='dFE')\n"
   ]
  },
  {
   "cell_type": "code",
   "execution_count": 134,
   "metadata": {},
   "outputs": [
    {
     "data": {
      "text/plain": [
       "<pyqtgraph.imageview.ImageView.ImageView at 0x1a4b777828>"
      ]
     },
     "execution_count": 134,
     "metadata": {},
     "output_type": "execute_result"
    }
   ],
   "source": [
    "dFD = dilate(dFE, ker = 3, ite = 1)\n",
    "image(dFD, title='dFD')"
   ]
  },
  {
   "cell_type": "code",
   "execution_count": 135,
   "metadata": {},
   "outputs": [],
   "source": [
    "im_, keypoints = countour_frames(dFD*255,area_mn = 45, area_mx = 400, fish_num = 3)"
   ]
  },
  {
   "cell_type": "code",
   "execution_count": 115,
   "metadata": {},
   "outputs": [],
   "source": [
    "win = image(im_)"
   ]
  },
  {
   "cell_type": "markdown",
   "metadata": {},
   "source": [
    "## find trajectories"
   ]
  },
  {
   "cell_type": "code",
   "execution_count": 123,
   "metadata": {},
   "outputs": [
    {
     "data": {
      "text/plain": [
       "(1317, 240, 320)"
      ]
     },
     "execution_count": 123,
     "metadata": {},
     "output_type": "execute_result"
    }
   ],
   "source": [
    "mask.shape"
   ]
  },
  {
   "cell_type": "code",
   "execution_count": 122,
   "metadata": {},
   "outputs": [
    {
     "data": {
      "text/plain": [
       "(1317, 240, 320, 3)"
      ]
     },
     "execution_count": 122,
     "metadata": {},
     "output_type": "execute_result"
    }
   ],
   "source": [
    "im_.shape"
   ]
  },
  {
   "cell_type": "code",
   "execution_count": 136,
   "metadata": {},
   "outputs": [],
   "source": [
    "min_dist = 30\n",
    "trajs = find_trajs(keypoints, min_dist)"
   ]
  },
  {
   "cell_type": "code",
   "execution_count": 137,
   "metadata": {},
   "outputs": [
    {
     "data": {
      "text/plain": [
       "<matplotlib.image.AxesImage at 0x1c399d4240>"
      ]
     },
     "execution_count": 137,
     "metadata": {},
     "output_type": "execute_result"
    },
    {
     "data": {
      "image/png": "[encoded data removed]",
      "text/plain": [
       "<matplotlib.figure.Figure at 0x1a2bbc0940>"
      ]
     },
     "metadata": {},
     "output_type": "display_data"
    }
   ],
   "source": [
    "pl.matshow(trajs[:,:,0])"
   ]
  },
  {
   "cell_type": "code",
   "execution_count": 138,
   "metadata": {},
   "outputs": [],
   "source": [
    "imT = plot_pts(mask,ims, trajs)"
   ]
  },
  {
   "cell_type": "code",
   "execution_count": 143,
   "metadata": {},
   "outputs": [],
   "source": [
    "imM = plot_pts(mask,mask, trajs)"
   ]
  },
  {
   "cell_type": "code",
   "execution_count": 144,
   "metadata": {},
   "outputs": [],
   "source": [
    "win = image(imM, 'imM')"
   ]
  },
  {
   "cell_type": "code",
   "execution_count": 142,
   "metadata": {},
   "outputs": [],
   "source": [
    "win = image(imT)"
   ]
  },
  {
   "cell_type": "code",
   "execution_count": 111,
   "metadata": {},
   "outputs": [],
   "source": [
    "vPath = np.sum(trajs[:,:,0]>0, axis = 1)\n",
    "T = trajs[vPath>10,:,:]"
   ]
  },
  {
   "cell_type": "code",
   "execution_count": null,
   "metadata": {},
   "outputs": [],
   "source": []
  },
  {
   "cell_type": "code",
   "execution_count": 113,
   "metadata": {},
   "outputs": [
    {
     "data": {
      "text/plain": [
       "(6581, 240, 320, 3)"
      ]
     },
     "execution_count": 113,
     "metadata": {},
     "output_type": "execute_result"
    }
   ],
   "source": [
    "imT.shape"
   ]
  },
  {
   "cell_type": "code",
   "execution_count": 114,
   "metadata": {},
   "outputs": [],
   "source": []
  },
  {
   "cell_type": "code",
   "execution_count": 140,
   "metadata": {},
   "outputs": [],
   "source": [
    "win = image(imT)\n",
    "win.play(rate = 30)"
   ]
  },
  {
   "cell_type": "code",
   "execution_count": 141,
   "metadata": {},
   "outputs": [
    {
     "name": "stdout",
     "output_type": "stream",
     "text": [
      "\n",
      "[MoviePy] Building file test_hsv.gif with imageio\n"
     ]
    },
    {
     "name": "stderr",
     "output_type": "stream",
     "text": [
      "100%|██████████| 6581/6581 [01:43<00:00, 63.70it/s]\n"
     ]
    },
    {
     "data": {
      "text/plain": [
       "<moviepy.video.io.ImageSequenceClip.ImageSequenceClip at 0x1a293dda20>"
      ]
     },
     "execution_count": 141,
     "metadata": {},
     "output_type": "execute_result"
    }
   ],
   "source": [
    "MyGif('test_hsv', imT,fps = 30)"
   ]
  },
  {
   "cell_type": "code",
   "execution_count": 71,
   "metadata": {},
   "outputs": [
    {
     "data": {
      "image/png": "[encoded data removed]",
      "text/plain": [
       "<matplotlib.figure.Figure at 0x1a44024780>"
      ]
     },
     "metadata": {},
     "output_type": "display_data"
    }
   ],
   "source": [
    "for i in range(trajs.shape[0]):\n",
    "    tmp = trajs[i,:,:][trajs[i,:,0]>0,:]\n",
    "    pl.plot(tmp[:,0],tmp[:,1], 'o')"
   ]
  },
  {
   "cell_type": "code",
   "execution_count": null,
   "metadata": {},
   "outputs": [],
   "source": [
    "T = trajs"
   ]
  },
  {
   "cell_type": "code",
   "execution_count": 72,
   "metadata": {},
   "outputs": [],
   "source": [
    "title = 'trajectories'\n",
    "win = pg.PlotItem(title=title)\n",
    "win.showGrid(x=True, y=True)\n",
    "# win.addlegend()\n",
    "for i in range(T.shape[0]):\n",
    "    tmp = T[i,:,:][T[i,:,0]>0,:]\n",
    "    win.plot(tmp[:,0],tmp[:,1], pen=(i,3), symbol = 'o')\n",
    "    "
   ]
  },
  {
   "cell_type": "code",
   "execution_count": null,
   "metadata": {},
   "outputs": [],
   "source": []
  },
  {
   "cell_type": "code",
   "execution_count": 73,
   "metadata": {},
   "outputs": [],
   "source": [
    "xx = []\n",
    "for i in range(T.shape[0]):\n",
    "    inds = T[i,:,0]>0\n",
    "    xx.append(T[i,inds,:])\n",
    "xx = np.array(xx)"
   ]
  },
  {
   "cell_type": "code",
   "execution_count": 81,
   "metadata": {},
   "outputs": [],
   "source": [
    "X = np.array([[(np.linalg.norm(T[fish][ind+1,:]-pre)) for ind, pre in enumerate(T[fish][:-1,:])] for fish in range(T.shape[0]) ])"
   ]
  },
  {
   "cell_type": "code",
   "execution_count": 75,
   "metadata": {},
   "outputs": [
    {
     "data": {
      "text/plain": [
       "(12, 676)"
      ]
     },
     "execution_count": 75,
     "metadata": {},
     "output_type": "execute_result"
    }
   ],
   "source": [
    "X.shape"
   ]
  },
  {
   "cell_type": "code",
   "execution_count": 76,
   "metadata": {},
   "outputs": [],
   "source": [
    "X[X>min_dist] = 0"
   ]
  },
  {
   "cell_type": "code",
   "execution_count": 77,
   "metadata": {},
   "outputs": [],
   "source": [
    "\n",
    "X = np.array([[(np.linalg.norm(xx[fish][ind+1,:]-pre)) for ind, pre in enumerate(xx[fish][:-1,:])] for fish in range(len(xx)) ])"
   ]
  },
  {
   "cell_type": "code",
   "execution_count": 82,
   "metadata": {},
   "outputs": [
    {
     "data": {
      "text/plain": [
       "<pyqtgraph.graphicsWindows.PlotWindow at 0x1a23be9ca8>"
      ]
     },
     "execution_count": 82,
     "metadata": {},
     "output_type": "execute_result"
    }
   ],
   "source": [
    "pg.plot(np.mean(X, axis = 0))"
   ]
  },
  {
   "cell_type": "code",
   "execution_count": null,
   "metadata": {},
   "outputs": [],
   "source": [
    "pg.plot??"
   ]
  },
  {
   "cell_type": "code",
   "execution_count": 83,
   "metadata": {},
   "outputs": [
    {
     "data": {
      "text/plain": [
       "<pyqtgraph.graphicsItems.PlotDataItem.PlotDataItem at 0x1a443d6558>"
      ]
     },
     "execution_count": 83,
     "metadata": {},
     "output_type": "execute_result"
    }
   ],
   "source": [
    "title = 'swim distribution3'\n",
    "win = pg.plot(title=title)\n",
    "win.plotItem.addLegend()\n",
    "win.plotItem.titleLabel.setText(title)\n",
    "win.win.move(0,0)\n",
    "win.showGrid(x=True, y=True)\n",
    "win.plot(np.mean(X, axis = 0), name='distance')\n"
   ]
  },
  {
   "cell_type": "code",
   "execution_count": null,
   "metadata": {},
   "outputs": [],
   "source": [
    "for i in range(X.shape[0]):\n",
    "    pl.plot(X[i])"
   ]
  },
  {
   "cell_type": "code",
   "execution_count": null,
   "metadata": {},
   "outputs": [],
   "source": [
    "X.shape"
   ]
  },
  {
   "cell_type": "code",
   "execution_count": null,
   "metadata": {},
   "outputs": [],
   "source": [
    "title = 'trajectories'\n",
    "win = pg.plot(title=title)\n",
    "win.showGrid(x=True, y=True)\n",
    "# win.addlegend()\n",
    "for i in range(10):\n",
    "    tmp = T[i,:,:][T[i,:,0]>0,:]\n",
    "    win.plot(tmp[:,0],tmp[:,1], pen=(i,3), symbol = 'o')\n",
    "    "
   ]
  },
  {
   "cell_type": "code",
   "execution_count": null,
   "metadata": {},
   "outputs": [],
   "source": []
  },
  {
   "cell_type": "code",
   "execution_count": null,
   "metadata": {},
   "outputs": [],
   "source": [
    "params = cv2.SimpleBlobDetector_Params()\n",
    "params.filterByArea = True\n",
    "params.minArea = 20\n",
    "params.maxArea = 10000\n",
    "params.filterByInertia = False\n",
    "params.maxInertiaRatio = 1\n",
    "params.minThreshold = 0\n",
    "params.maxThreshold = 256\n",
    "\n",
    "detector = cv2.SimpleBlobDetector_create(params)\n",
    "\n",
    "kpts = []\n",
    "tmp_ims = []\n",
    "im_avg_kp = np.copy(ims_avg)\n",
    "\n",
    "for i in range(dFD.shape[0]-60):\n",
    "    tmp_im = 255-dFD[i]*255\n",
    "    keypoints = detector.detect(tmp_im)\n",
    "    kpts.append(kpts)\n",
    "    im_with_keypoints = cv2.drawKeypoints(tmp_im, keypoints, np.array([]), (255,0,255), cv2.DRAW_MATCHES_FLAGS_DRAW_RICH_KEYPOINTS)\n",
    "    im_with_keypoints = cv2.drawKeypoints(tmp_im, keypoints, np.array([]), (255,0,255), cv2.DRAW_MATCHES_FLAGS_DRAW_RICH_KEYPOINTS)\n",
    "    im_avg_kp = cv2.drawKeypoints(im_avg_kp, keypoints, np.array([]), (255,0,255), cv2.DRAW_MATCHES_FLAGS_DRAW_RICH_KEYPOINTS)\n",
    "    \n",
    "    tmp_ims.append(im_with_keypoints) \n",
    "    \n",
    "tmp_ims = np.array(tmp_ims)\n",
    "# kpts\n",
    "win = image(im_avg_kp)\n",
    "win1 = image(tmp_ims)\n",
    "win1.move(500,0)"
   ]
  },
  {
   "cell_type": "code",
   "execution_count": null,
   "metadata": {},
   "outputs": [],
   "source": []
  },
  {
   "cell_type": "code",
   "execution_count": null,
   "metadata": {},
   "outputs": [],
   "source": []
  },
  {
   "cell_type": "code",
   "execution_count": null,
   "metadata": {},
   "outputs": [],
   "source": []
  },
  {
   "cell_type": "code",
   "execution_count": null,
   "metadata": {},
   "outputs": [],
   "source": [
    "# lLim = int(np.percentile(fD.flatten(), 97.0))\n",
    "# uLim = 255\n"
   ]
  },
  {
   "cell_type": "code",
   "execution_count": null,
   "metadata": {},
   "outputs": [],
   "source": []
  },
  {
   "cell_type": "code",
   "execution_count": null,
   "metadata": {},
   "outputs": [],
   "source": []
  },
  {
   "cell_type": "code",
   "execution_count": null,
   "metadata": {},
   "outputs": [],
   "source": [
    "pg.image(im_avg_kp)"
   ]
  },
  {
   "cell_type": "code",
   "execution_count": null,
   "metadata": {},
   "outputs": [],
   "source": [
    "pg.image(tmp_ims)"
   ]
  },
  {
   "cell_type": "code",
   "execution_count": null,
   "metadata": {},
   "outputs": [],
   "source": [
    "win2 = pg.image(tmp_ims, 'tmp_ims')\n",
    "win2.move(0,0)"
   ]
  },
  {
   "cell_type": "markdown",
   "metadata": {},
   "source": [
    "## simple pyqtDemo"
   ]
  },
  {
   "cell_type": "code",
   "execution_count": null,
   "metadata": {},
   "outputs": [],
   "source": [
    "file_path = '/Users/virginiarutten/Documents/deep_fish/assets/pavlov_dog.jpg'\n",
    "pp = np.array(Image.open(file_path))\n",
    "ss = pp.shape\n",
    "print(ss)"
   ]
  },
  {
   "cell_type": "code",
   "execution_count": null,
   "metadata": {},
   "outputs": [],
   "source": [
    "win = QtGui.QWidget()\n",
    "title='you can do it!'\n",
    "win.resize(1200,800)\n",
    "win.setWindowTitle(title)\n",
    "win.move(0,0)\n",
    "\n",
    "##create qWidget\n",
    "imv1= RawImageWidget(scaled=True)\n",
    "\n",
    "# imv2= pg.ImageView()\n",
    "# l2 = imv2.layout()\n",
    "layout = QtGui.QGridLayout()\n",
    "win.setLayout(layout)\n",
    "\n",
    "layout.addWidget(imv1)\n",
    "# layout.addWidget(imv2)\n",
    "imv1.setImage(pp.T)\n",
    "# imv2.setImage(pp.T, scale = (3,3), pos= (0,0), levels = (10,90),\\\n",
    "#              autoHistogramRange= False, autoRange = True)\n",
    "win.show()\n"
   ]
  },
  {
   "cell_type": "code",
   "execution_count": null,
   "metadata": {},
   "outputs": [],
   "source": []
  },
  {
   "cell_type": "code",
   "execution_count": null,
   "metadata": {},
   "outputs": [],
   "source": [
    "filename1 = datetime.datetime.now().strftime(\"%Y%m%d-%H%M%S\")"
   ]
  },
  {
   "cell_type": "code",
   "execution_count": null,
   "metadata": {},
   "outputs": [],
   "source": [
    "A = MyArduino(port='/dev/cu.usbmodem14511')"
   ]
  },
  {
   "cell_type": "code",
   "execution_count": null,
   "metadata": {},
   "outputs": [],
   "source": [
    "A.sendChar('1')"
   ]
  },
  {
   "cell_type": "code",
   "execution_count": null,
   "metadata": {},
   "outputs": [],
   "source": [
    "path = '/Users/virginiarutten/Documents/deep_fish/tracking'\n",
    "os.chdir(path)\n",
    "os.getcwd()\n",
    "file = glob('../videos/*')[1]\n",
    "print(file)"
   ]
  },
  {
   "cell_type": "code",
   "execution_count": null,
   "metadata": {},
   "outputs": [],
   "source": []
  },
  {
   "cell_type": "code",
   "execution_count": null,
   "metadata": {},
   "outputs": [],
   "source": []
  },
  {
   "cell_type": "markdown",
   "metadata": {},
   "source": [
    "## save new video"
   ]
  },
  {
   "cell_type": "code",
   "execution_count": null,
   "metadata": {},
   "outputs": [],
   "source": [
    "cap = cv2.VideoCapture(1)\n",
    "frame, imW, imH = grab_frame(cap, fx=.5)\n",
    "print(imW, imH)"
   ]
  },
  {
   "cell_type": "code",
   "execution_count": null,
   "metadata": {},
   "outputs": [],
   "source": []
  },
  {
   "cell_type": "code",
   "execution_count": null,
   "metadata": {},
   "outputs": [],
   "source": [
    "def check_file(path, file):\n",
    "    i = 0\n",
    "    if len(glob(path+file))>0:\n",
    "        i +=1\n",
    "        print(i)\n",
    "        file = str(i)+file\n",
    "    else:\n",
    "        print('file is fine')\n",
    "    return file"
   ]
  },
  {
   "cell_type": "code",
   "execution_count": null,
   "metadata": {},
   "outputs": [],
   "source": [
    "path = '/Users/virginiarutten/Documents/deep_fish/videos/'\n",
    "file = 'test0.avi'"
   ]
  },
  {
   "cell_type": "code",
   "execution_count": null,
   "metadata": {},
   "outputs": [],
   "source": [
    "file = check_file(path, file)\n",
    "print(file)"
   ]
  },
  {
   "cell_type": "code",
   "execution_count": null,
   "metadata": {},
   "outputs": [],
   "source": []
  },
  {
   "cell_type": "markdown",
   "metadata": {},
   "source": []
  },
  {
   "cell_type": "code",
   "execution_count": null,
   "metadata": {},
   "outputs": [],
   "source": []
  },
  {
   "cell_type": "markdown",
   "metadata": {},
   "source": [
    "## basic detection"
   ]
  },
  {
   "cell_type": "code",
   "execution_count": null,
   "metadata": {},
   "outputs": [],
   "source": [
    "fD_rgb, fD, keypoints = detect_fish(frameDelta, ims_rgb, p_val, area_mn)"
   ]
  },
  {
   "cell_type": "code",
   "execution_count": null,
   "metadata": {},
   "outputs": [],
   "source": [
    "len(keypoints)"
   ]
  },
  {
   "cell_type": "code",
   "execution_count": null,
   "metadata": {},
   "outputs": [],
   "source": [
    "pg.image(fD)"
   ]
  },
  {
   "cell_type": "code",
   "execution_count": null,
   "metadata": {},
   "outputs": [],
   "source": []
  },
  {
   "cell_type": "code",
   "execution_count": null,
   "metadata": {},
   "outputs": [],
   "source": [
    "trajs[0:4,0,:] "
   ]
  },
  {
   "cell_type": "code",
   "execution_count": null,
   "metadata": {},
   "outputs": [],
   "source": []
  },
  {
   "cell_type": "code",
   "execution_count": null,
   "metadata": {},
   "outputs": [],
   "source": []
  },
  {
   "cell_type": "code",
   "execution_count": null,
   "metadata": {},
   "outputs": [],
   "source": []
  },
  {
   "cell_type": "code",
   "execution_count": null,
   "metadata": {},
   "outputs": [],
   "source": [
    "fD_traj.shape"
   ]
  },
  {
   "cell_type": "code",
   "execution_count": null,
   "metadata": {},
   "outputs": [],
   "source": [
    "mv = pg.image(fD_traj)"
   ]
  },
  {
   "cell_type": "code",
   "execution_count": null,
   "metadata": {},
   "outputs": [],
   "source": [
    "mv.play(25)"
   ]
  },
  {
   "cell_type": "code",
   "execution_count": null,
   "metadata": {},
   "outputs": [],
   "source": [
    "d_fps"
   ]
  },
  {
   "cell_type": "code",
   "execution_count": null,
   "metadata": {},
   "outputs": [],
   "source": [
    "clip = gif('180331_test_tracking_sc2_fps2', fD_traj,fps=d_fps*2, scale=2.0)"
   ]
  },
  {
   "cell_type": "code",
   "execution_count": null,
   "metadata": {},
   "outputs": [],
   "source": [
    "mv = pg.image(fD_traj)"
   ]
  },
  {
   "cell_type": "code",
   "execution_count": null,
   "metadata": {},
   "outputs": [],
   "source": [
    "mv.play(rate = 25)"
   ]
  },
  {
   "cell_type": "code",
   "execution_count": null,
   "metadata": {},
   "outputs": [],
   "source": [
    "tmp = np.repeat(frameDelta.copy()[:,:,:,None], repeats = 3,axis = 3)"
   ]
  },
  {
   "cell_type": "code",
   "execution_count": null,
   "metadata": {},
   "outputs": [],
   "source": [
    "tmp.shape"
   ]
  },
  {
   "cell_type": "code",
   "execution_count": null,
   "metadata": {},
   "outputs": [],
   "source": [
    "ims_avg.shape"
   ]
  },
  {
   "cell_type": "code",
   "execution_count": null,
   "metadata": {},
   "outputs": [],
   "source": [
    "cv2.circle"
   ]
  },
  {
   "cell_type": "code",
   "execution_count": null,
   "metadata": {},
   "outputs": [],
   "source": [
    "pl.plot(trajs[0][:,0], trajs[0][:,1])"
   ]
  },
  {
   "cell_type": "code",
   "execution_count": null,
   "metadata": {},
   "outputs": [],
   "source": [
    "pg.image(fD_traj)"
   ]
  },
  {
   "cell_type": "code",
   "execution_count": null,
   "metadata": {},
   "outputs": [],
   "source": [
    "trajs[0][0][0]"
   ]
  },
  {
   "cell_type": "code",
   "execution_count": null,
   "metadata": {},
   "outputs": [],
   "source": []
  },
  {
   "cell_type": "code",
   "execution_count": null,
   "metadata": {},
   "outputs": [],
   "source": [
    "sg = pg.plot(trajs[0][:,0],trajs[0][:,1])"
   ]
  },
  {
   "cell_type": "code",
   "execution_count": null,
   "metadata": {},
   "outputs": [],
   "source": [
    "sg??"
   ]
  },
  {
   "cell_type": "code",
   "execution_count": null,
   "metadata": {},
   "outputs": [],
   "source": [
    "sg = pg.ScatterPlotItem(pos = trajs[0])"
   ]
  },
  {
   "cell_type": "code",
   "execution_count": null,
   "metadata": {},
   "outputs": [],
   "source": [
    "loc\n"
   ]
  },
  {
   "cell_type": "code",
   "execution_count": null,
   "metadata": {},
   "outputs": [],
   "source": [
    "np.linalg.norm(loc-pre_loc)"
   ]
  },
  {
   "cell_type": "code",
   "execution_count": null,
   "metadata": {},
   "outputs": [],
   "source": [
    "ord_"
   ]
  },
  {
   "cell_type": "code",
   "execution_count": null,
   "metadata": {},
   "outputs": [],
   "source": [
    "i"
   ]
  },
  {
   "cell_type": "code",
   "execution_count": null,
   "metadata": {},
   "outputs": [],
   "source": [
    "ord_"
   ]
  },
  {
   "cell_type": "code",
   "execution_count": null,
   "metadata": {},
   "outputs": [],
   "source": [
    "locs[2,0]"
   ]
  },
  {
   "cell_type": "code",
   "execution_count": null,
   "metadata": {},
   "outputs": [],
   "source": [
    "np.linalg.norm(tmp[0]-tmp[1])"
   ]
  },
  {
   "cell_type": "code",
   "execution_count": null,
   "metadata": {},
   "outputs": [],
   "source": [
    "tmp[0]"
   ]
  },
  {
   "cell_type": "code",
   "execution_count": null,
   "metadata": {},
   "outputs": [],
   "source": [
    "tmp = keypoints[0].T"
   ]
  },
  {
   "cell_type": "code",
   "execution_count": null,
   "metadata": {},
   "outputs": [],
   "source": [
    "keypoints[]"
   ]
  },
  {
   "cell_type": "code",
   "execution_count": null,
   "metadata": {},
   "outputs": [],
   "source": [
    "tmp = fD_rgb.copy()\n",
    "tmp[:,:,:,0] = tmp[:,:,:,2].copy()\n",
    "tmp[:,:,:,2] = fD_rgb.copy()[:,:,:,0]"
   ]
  },
  {
   "cell_type": "code",
   "execution_count": null,
   "metadata": {},
   "outputs": [],
   "source": [
    "pg.image(tmp)\n",
    "pg.image(fD)"
   ]
  },
  {
   "cell_type": "code",
   "execution_count": null,
   "metadata": {},
   "outputs": [],
   "source": []
  },
  {
   "cell_type": "code",
   "execution_count": null,
   "metadata": {},
   "outputs": [],
   "source": []
  },
  {
   "cell_type": "code",
   "execution_count": null,
   "metadata": {},
   "outputs": [],
   "source": [
    "params = cv2.SimpleBlobDetector_Params() \n",
    "params.minThreshold = 200\n",
    "params.maxThreshold = 265\n",
    "params.filterByArea = True\n",
    "params.minArea = 0\n",
    "params.maxArea = 100*5000\n",
    "params.filterByColor = True\n",
    "params.blobColor = 255\n",
    "detector = cv2.SimpleBlobDetector_create(params)\n",
    "kk = detector.detect(mask[1].astype('uint8'))\n",
    "kk"
   ]
  },
  {
   "cell_type": "code",
   "execution_count": null,
   "metadata": {},
   "outputs": [],
   "source": [
    "tmp = cv2.drawKeypoints(ims[1,:,:], kk, np.array([]), \\\n",
    "                                                   (255,0,0),flags = 0)\n",
    "for j in range(0,len(kk)):\n",
    "    x_ = np.array([kk[j].pt[0]])\n",
    "    y_ = np.array([kk[j].pt[1]])\n",
    "    x = np.concatenate([x,x_])\n",
    "    y = np.concatenate([y,y_])\n",
    "    tmp = cv2.circle(tmp,\\\n",
    "                    (x_, y_), radius = int(kk[j].size), color=(255),\\\n",
    "                                               thickness=3)\n",
    "    \n",
    "    mask[1] = cv2.circle(mask[1],\\\n",
    "                    (x_, y_), radius = int(kk[j].size), color=(255),\\\n",
    "                                               thickness=3)    \n",
    "pg.image(tmp)\n",
    "pg.image(mask[1].astype('uint8'))"
   ]
  },
  {
   "cell_type": "code",
   "execution_count": null,
   "metadata": {},
   "outputs": [],
   "source": []
  },
  {
   "cell_type": "code",
   "execution_count": null,
   "metadata": {},
   "outputs": [],
   "source": []
  },
  {
   "cell_type": "code",
   "execution_count": null,
   "metadata": {},
   "outputs": [],
   "source": [
    "ss = frameDelta.shape"
   ]
  },
  {
   "cell_type": "code",
   "execution_count": null,
   "metadata": {},
   "outputs": [],
   "source": [
    "frameDelta.shape"
   ]
  },
  {
   "cell_type": "code",
   "execution_count": null,
   "metadata": {},
   "outputs": [],
   "source": [
    "min_area = 300*100"
   ]
  },
  {
   "cell_type": "code",
   "execution_count": null,
   "metadata": {},
   "outputs": [],
   "source": [
    "mask = cv2.inRange(fD,  p_val+10, 255)\n"
   ]
  },
  {
   "cell_type": "code",
   "execution_count": null,
   "metadata": {},
   "outputs": [],
   "source": [
    "tmp = pg.image(fD[0], title='fD')"
   ]
  },
  {
   "cell_type": "code",
   "execution_count": null,
   "metadata": {},
   "outputs": [],
   "source": [
    "roi = tmp.getRoiPlot()"
   ]
  },
  {
   "cell_type": "code",
   "execution_count": null,
   "metadata": {},
   "outputs": [],
   "source": [
    "roi.setEnabled=True"
   ]
  },
  {
   "cell_type": "code",
   "execution_count": null,
   "metadata": {},
   "outputs": [],
   "source": [
    "tmp.win.setWindowTitle('test')"
   ]
  },
  {
   "cell_type": "code",
   "execution_count": null,
   "metadata": {},
   "outputs": [],
   "source": [
    "kk = tmp.roi.size()\n",
    "tmp.roi.size()"
   ]
  },
  {
   "cell_type": "code",
   "execution_count": null,
   "metadata": {},
   "outputs": [],
   "source": [
    "area_mn = kk.x()*kk.y()\n",
    "print(area_mn)"
   ]
  },
  {
   "cell_type": "code",
   "execution_count": null,
   "metadata": {},
   "outputs": [],
   "source": [
    "area_mx = kk.x()*kk.y()"
   ]
  },
  {
   "cell_type": "code",
   "execution_count": null,
   "metadata": {},
   "outputs": [],
   "source": [
    "area_mx"
   ]
  },
  {
   "cell_type": "code",
   "execution_count": null,
   "metadata": {},
   "outputs": [],
   "source": [
    "pg.image(fD)"
   ]
  },
  {
   "cell_type": "code",
   "execution_count": null,
   "metadata": {},
   "outputs": [],
   "source": [
    "win = pg.image(fD[3])"
   ]
  },
  {
   "cell_type": "code",
   "execution_count": null,
   "metadata": {},
   "outputs": [],
   "source": [
    "ROI = win.getRoiPlot()"
   ]
  },
  {
   "cell_type": "code",
   "execution_count": null,
   "metadata": {},
   "outputs": [],
   "source": [
    "roi = ROI.getPlotItem()"
   ]
  },
  {
   "cell_type": "code",
   "execution_count": null,
   "metadata": {},
   "outputs": [],
   "source": [
    "roi.size()"
   ]
  },
  {
   "cell_type": "code",
   "execution_count": null,
   "metadata": {},
   "outputs": [],
   "source": [
    "%%time\n",
    "fD = frameDelta.copy()\n",
    "im_with_keypoints = np.zeros([ss[0],ss[1],ss[2],3])\n",
    "keypoints = {}\n",
    "# for i in range(0,round(ss[0])):\n",
    "\n",
    "sizes = []\n",
    "for i in range(30):\n",
    "    if i % 25 ==0:\n",
    "        print(i)\n",
    "    _, cnts, _ = cv2.findContours(image = mask[i].copy(), mode = cv2.RETR_EXTERNAL,\n",
    "            method = cv2.CHAIN_APPROX_SIMPLE)\n",
    "        # loop over the contours\n",
    "    for c in cnts:\n",
    "        \n",
    "        # if the contour is too small, ignore it\n",
    "        \n",
    "        if cv2.contourArea(c) < min_area:\n",
    "            pass\n",
    "        (x, y, w, h) = cv2.boundingRect(c)\n",
    "        fD[i] = cv2.rectangle(fD[i], (x, y), (x + w, y + h), (0, 255, 0), 2)\n",
    "#     kk = detector.detect(mask[i].astype('uint8'))\n",
    "#     im_with_keypoints[i,:,:,:] = cv2.drawKeypoints(ims[i,:,:], kk, np.array([]), \\\n",
    "#                                                    (255,0,0),flags = 0)\n",
    "#     keypoints[i] = np.array([[[],[]]])\n",
    "#     x = np.array([])\n",
    "#     y = np.array([])\n",
    "#     for j in range(0,len(kk)):\n",
    "#         x_ = np.array([kk[j].pt[0]])\n",
    "#         y_ = np.array([kk[j].pt[1]])\n",
    "#         x = np.concatenate([x,x_])\n",
    "#         y = np.concatenate([y,y_])\n",
    "#         im_with_keypoints[i,:,:,:] = cv2.circle(im_with_keypoints[i,:,:,:],\\\n",
    "#                     (x_, y_), radius = int(kk[j].size), color=(255),\\\n",
    "#                                                thickness=3)\n",
    "#         fD[i,:,:]  = cv2.circle(fD[i,:,:] ,\\\n",
    "#                     (x_, y_), radius = int(kk[j].size), color=(255),\\\n",
    "#                                                thickness=3)\n",
    "# #         keypoints[i] = np.array([[kk[0].pt[0]],[kk[0].pt[0]]])\n",
    "#     xx =x.reshape([1,-1])\n",
    "#     yy =y.reshape([1,-1])\n",
    "#     keypoints[i] = np.concatenate([xx,yy], axis = 0)   \n",
    "    "
   ]
  },
  {
   "cell_type": "code",
   "execution_count": null,
   "metadata": {},
   "outputs": [],
   "source": [
    "%%time\n",
    "fD = frameDelta.copy()\n",
    "im_with_keypoints = np.zeros([ss[0],ss[1],ss[2],3])\n",
    "keypoints = {}\n",
    "# for i in range(0,round(ss[0])):\n",
    "\n",
    "for i in range(30):\n",
    "    print(i)\n",
    "    if i % 25 ==0:\n",
    "        print(i)\n",
    "    kk = detector.detect(mask[i].astype('uint8'))\n",
    "    im_with_keypoints[i,:,:,:] = cv2.drawKeypoints(ims[i,:,:], kk, np.array([]), \\\n",
    "                                                   (255,0,0),flags = 0)\n",
    "    keypoints[i] = np.array([[[],[]]])\n",
    "    x = np.array([])\n",
    "    y = np.array([])\n",
    "    for j in range(0,len(kk)):\n",
    "        x_ = np.array([kk[j].pt[0]])\n",
    "        y_ = np.array([kk[j].pt[1]])\n",
    "        x = np.concatenate([x,x_])\n",
    "        y = np.concatenate([y,y_])\n",
    "        im_with_keypoints[i,:,:,:] = cv2.circle(im_with_keypoints[i,:,:,:],\\\n",
    "                    (x_, y_), radius = int(kk[j].size), color=(255),\\\n",
    "                                               thickness=3)\n",
    "        fD[i,:,:]  = cv2.circle(fD[i,:,:] ,\\\n",
    "                    (x_, y_), radius = int(kk[j].size), color=(255),\\\n",
    "                                               thickness=3)\n",
    "#         keypoints[i] = np.array([[kk[0].pt[0]],[kk[0].pt[0]]])\n",
    "    xx =x.reshape([1,-1])\n",
    "    yy =y.reshape([1,-1])\n",
    "    keypoints[i] = np.concatenate([xx,yy], axis = 0)   \n",
    " "
   ]
  },
  {
   "cell_type": "code",
   "execution_count": null,
   "metadata": {},
   "outputs": [],
   "source": [
    "pg.image(255-mask.astype('uint8'))"
   ]
  },
  {
   "cell_type": "code",
   "execution_count": null,
   "metadata": {},
   "outputs": [],
   "source": [
    "# mask = cv2.inRange(fD,  p_val+20, 255)\n",
    "# pg.image(mask)\n",
    "pg.image(fD)"
   ]
  },
  {
   "cell_type": "code",
   "execution_count": null,
   "metadata": {},
   "outputs": [],
   "source": [
    "pg.image(mask[i].astype('uint8'))"
   ]
  },
  {
   "cell_type": "code",
   "execution_count": null,
   "metadata": {},
   "outputs": [],
   "source": [
    "pg.image(fD)"
   ]
  },
  {
   "cell_type": "code",
   "execution_count": null,
   "metadata": {},
   "outputs": [],
   "source": [
    "keypoints[3]"
   ]
  },
  {
   "cell_type": "code",
   "execution_count": null,
   "metadata": {},
   "outputs": [],
   "source": []
  },
  {
   "cell_type": "code",
   "execution_count": null,
   "metadata": {},
   "outputs": [],
   "source": [
    "pg.image(im_with_keypoints)"
   ]
  },
  {
   "cell_type": "code",
   "execution_count": null,
   "metadata": {},
   "outputs": [],
   "source": [
    "pg.image(frameDelta[i,:,:].astype('uint8'))"
   ]
  },
  {
   "cell_type": "code",
   "execution_count": null,
   "metadata": {},
   "outputs": [],
   "source": []
  },
  {
   "cell_type": "code",
   "execution_count": null,
   "metadata": {},
   "outputs": [],
   "source": [
    "fr_num = frameDelta.shape[0]\n",
    "thresh = cv2.threshold(frameDelta.reshape([fr_num, -1]), p_val, p_val+20, cv2.THRESH_BINARY)[1]\n",
    "thresh = thresh.reshape([fr_num,height,width])"
   ]
  },
  {
   "cell_type": "code",
   "execution_count": null,
   "metadata": {},
   "outputs": [],
   "source": [
    "pg.image(thresh)"
   ]
  },
  {
   "cell_type": "code",
   "execution_count": null,
   "metadata": {},
   "outputs": [],
   "source": [
    "ret, frame = cap.read()"
   ]
  },
  {
   "cell_type": "code",
   "execution_count": null,
   "metadata": {},
   "outputs": [],
   "source": [
    "gray = cv2.cvtColor(frame, cv2.COLOR_BGR2GRAY)\n",
    "gray = cv2.GaussianBlur(gray, (3, 3), 1)"
   ]
  },
  {
   "cell_type": "code",
   "execution_count": null,
   "metadata": {},
   "outputs": [],
   "source": [
    "pg.image(frame_delta)"
   ]
  },
  {
   "cell_type": "code",
   "execution_count": null,
   "metadata": {},
   "outputs": [],
   "source": [
    "T.grab_frame()\n",
    "T.process_frame()\n",
    "T.get_frame_contours()\n",
    "T.show_frame()"
   ]
  },
  {
   "cell_type": "code",
   "execution_count": null,
   "metadata": {},
   "outputs": [],
   "source": [
    "T.recording = False"
   ]
  },
  {
   "cell_type": "code",
   "execution_count": null,
   "metadata": {},
   "outputs": [],
   "source": [
    "T.camera.release()\n",
    "cv2.destroyAllWindows() "
   ]
  },
  {
   "cell_type": "code",
   "execution_count": null,
   "metadata": {},
   "outputs": [],
   "source": [
    "T.kill_threads()"
   ]
  },
  {
   "cell_type": "code",
   "execution_count": null,
   "metadata": {},
   "outputs": [],
   "source": [
    "path = './videos'"
   ]
  },
  {
   "cell_type": "code",
   "execution_count": null,
   "metadata": {},
   "outputs": [],
   "source": [
    "alias test echo python here %s"
   ]
  },
  {
   "cell_type": "code",
   "execution_count": null,
   "metadata": {},
   "outputs": [],
   "source": [
    "%who"
   ]
  },
  {
   "cell_type": "code",
   "execution_count": null,
   "metadata": {},
   "outputs": [],
   "source": [
    "# camera = cv2.VideoCapture(0)\n",
    "# time.sleep(0.25)\n",
    "# firstFrame = None"
   ]
  },
  {
   "cell_type": "code",
   "execution_count": null,
   "metadata": {},
   "outputs": [],
   "source": [
    "cv2.imshow('img',np.random.randn(100,100))\n",
    "cv2.waitKey(0)\n",
    "cv2.destroyAllWindows()\n"
   ]
  },
  {
   "cell_type": "code",
   "execution_count": null,
   "metadata": {},
   "outputs": [],
   "source": [
    "# def main():\n",
    "#     print('starting')\n",
    "#     T = MyTracker()\n",
    "#     print('Tracker created')\n",
    "#     T.start_recording()\n",
    "    \n",
    "    \n",
    "# if __name__ == '__main__':\n",
    "#     print('hello')\n",
    "#     main()"
   ]
  },
  {
   "cell_type": "code",
   "execution_count": null,
   "metadata": {},
   "outputs": [],
   "source": []
  },
  {
   "cell_type": "code",
   "execution_count": null,
   "metadata": {},
   "outputs": [],
   "source": [
    "T = MyTracker()"
   ]
  },
  {
   "cell_type": "code",
   "execution_count": null,
   "metadata": {},
   "outputs": [],
   "source": [
    "T = MyTracker()"
   ]
  },
  {
   "cell_type": "code",
   "execution_count": null,
   "metadata": {},
   "outputs": [],
   "source": [
    "T.grab_frame()"
   ]
  },
  {
   "cell_type": "code",
   "execution_count": null,
   "metadata": {},
   "outputs": [],
   "source": [
    "T.kill_threads()"
   ]
  },
  {
   "cell_type": "code",
   "execution_count": null,
   "metadata": {},
   "outputs": [],
   "source": [
    "camera.release()\n",
    "cv2.destroyAllWindows()  "
   ]
  },
  {
   "cell_type": "code",
   "execution_count": null,
   "metadata": {},
   "outputs": [],
   "source": [
    "T.start_recording()"
   ]
  },
  {
   "cell_type": "code",
   "execution_count": null,
   "metadata": {},
   "outputs": [],
   "source": [
    "# loop over the frames of the video\n",
    "ims = []\n",
    "\n",
    "while True:\n",
    "    sleep\n",
    "    print(\"frame grabbed\")\n",
    "    # grab the current frame and initialize the occupied/unoccupied\n",
    "    # text\n",
    "    (grabbed, frame) = camera.read()\n",
    "    text = \"Unoccupied\"\n",
    "\n",
    "    # if the frame could not be grabbed, then we have reached the end\n",
    "    # of the video\n",
    "    if not grabbed:\n",
    "        print('error')\n",
    "        break\n",
    "\n",
    "    # resize the frame, convert it to grayscale, and blur it\n",
    "    frame = imutils.resize(frame, width=500)\n",
    "    ims.append(frame)\n",
    "    gray = cv2.cvtColor(frame, cv2.COLOR_BGR2GRAY)\n",
    "    gray = cv2.GaussianBlur(gray, (21, 21), 0)\n",
    "\n",
    "    # if the first frame is None, initialize it\n",
    "    if firstFrame is None:\n",
    "        firstFrame = gray\n",
    "        continue\n",
    "        \n",
    "    # compute the absolute difference between the current frame and\n",
    "    # first frame\n",
    "    frameDelta = cv2.absdiff(firstFrame, gray)\n",
    "    thresh = cv2.threshold(frameDelta, 25, 255, cv2.THRESH_BINARY)[1]\n",
    "\n",
    "    # dilate the thresholded image to fill in holes, then find contours\n",
    "    # on thresholded image\n",
    "    thresh = cv2.dilate(thresh, None, iterations=2)\n",
    "    _, cnts, _ = cv2.findContours(image = thresh.copy(), mode = cv2.RETR_EXTERNAL,\n",
    "        method = cv2.CHAIN_APPROX_SIMPLE)\n",
    "\n",
    "\n",
    "    # loop over the contours\n",
    "    for c in cnts:\n",
    "        # if the contour is too small, ignore it\n",
    "        if cv2.contourArea(c) < args[\"min_area\"]:\n",
    "#             print('nothing')\n",
    "            continue\n",
    "\n",
    "        # compute the bounding box for the contour, draw it on the frame,\n",
    "        # and update the text\n",
    "        (x, y, w, h) = cv2.boundingRect(c)\n",
    "        cv2.rectangle(frame, (x, y), (x + w, y + h), (0, 255, 0), 2)\n",
    "        text = \"Occupied\"\n",
    "        \n",
    "    # draw the text and timestamp on the frame\n",
    "    cv2.putText(frame, \"Room Status: {}\".format(text), (10, 20),\n",
    "        cv2.FONT_HERSHEY_SIMPLEX, 0.5, (0, 0, 255), 2)\n",
    "    cv2.putText(frame, datetime.datetime.now().strftime(\"%A %d %B %Y %I:%M:%S%p\"),\n",
    "        (10, frame.shape[0] - 10), cv2.FONT_HERSHEY_SIMPLEX, 0.35, (0, 0, 255), 1)\n",
    "\n",
    "    # show the frame and record if the user presses a key\n",
    "    cv2.imshow(\"Security Feed\", frame)\n",
    "    cv2.imshow(\"Thresh\", thresh)\n",
    "    cv2.imshow(\"Frame Delta\", frameDelta)\n",
    "    key = cv2.waitKey(1) & 0xFF\n",
    "\n",
    "    # if the `q` key is pressed, break from the lop\n",
    "    if key == ord(\"q\"):\n",
    "        break    \n",
    "        \n"
   ]
  },
  {
   "cell_type": "code",
   "execution_count": null,
   "metadata": {},
   "outputs": [],
   "source": [
    "# cleanup the camera and close any open windows\n",
    "camera.release()\n",
    "cv2.destroyAllWindows()     \n",
    "\n",
    "ims = np.array(ims)v"
   ]
  },
  {
   "cell_type": "code",
   "execution_count": null,
   "metadata": {},
   "outputs": [],
   "source": [
    "cv2.contourArea(cc[0])"
   ]
  },
  {
   "cell_type": "code",
   "execution_count": null,
   "metadata": {},
   "outputs": [],
   "source": [
    "pl.imshow(thresh)"
   ]
  },
  {
   "cell_type": "code",
   "execution_count": null,
   "metadata": {},
   "outputs": [],
   "source": [
    "cv2.findContours??"
   ]
  },
  {
   "cell_type": "code",
   "execution_count": null,
   "metadata": {},
   "outputs": [],
   "source": [
    "pg.image(ims)"
   ]
  },
  {
   "cell_type": "code",
   "execution_count": null,
   "metadata": {},
   "outputs": [],
   "source": [
    "pl.imshow(firstFrame)"
   ]
  },
  {
   "cell_type": "code",
   "execution_count": null,
   "metadata": {},
   "outputs": [],
   "source": []
  }
 ],
 "metadata": {
  "kernelspec": {
   "display_name": "Python [default]",
   "language": "python",
   "name": "python3"
  },
  "language_info": {
   "codemirror_mode": {
    "name": "ipython",
    "version": 3
   },
   "file_extension": ".py",
   "mimetype": "text/x-python",
   "name": "python",
   "nbconvert_exporter": "python",
   "pygments_lexer": "ipython3",
   "version": "3.5.3"
  }
 },
 "nbformat": 4,
 "nbformat_minor": 2
}
